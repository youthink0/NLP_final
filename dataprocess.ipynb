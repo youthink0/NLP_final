{
 "cells": [
  {
   "cell_type": "code",
   "execution_count": 9,
   "id": "f3205bf0",
   "metadata": {},
   "outputs": [],
   "source": [
    "import csv\n",
    "import os\n",
    "with open(os.path.join('data', 'party.labeled.txt'), 'r', encoding=\"utf-8\") as f:\n",
    "    data = f.read().strip().split('\\n')\n",
    "\n",
    "\n",
    "pure_data = [[text, label] for sent_id, label, text in [line.split('\\t', 2) for line in data]]\n",
    "\n",
    "for text in pure_data:\n",
    "    text[0] = text[0].lower()\n",
    "    text[0] = text[0].replace(\"party\", \"[MASK]\")\n",
    "    text[0] = text[0].replace(\"parties\", \"[MASK]\")\n",
    "\n",
    "\n",
    "with open('partytrain.csv', 'w', newline='') as csvfile:\n",
    "    writer = csv.writer(csvfile)\n",
    "    writer.writerow(['text', 'sense'])\n",
    "    for data in pure_data[:50]:\n",
    "        writer.writerow([data[0], data[1]])\n",
    "        \n",
    "\n",
    "with open('partytest.csv', 'w', newline='') as csvfile:\n",
    "    writer = csv.writer(csvfile)\n",
    "    writer.writerow(['text', 'sense'])\n",
    "    for data in pure_data[50:]:\n",
    "        writer.writerow([data[0], data[1]])"
   ]
  },
  {
   "cell_type": "code",
   "execution_count": null,
   "id": "2bebcf04",
   "metadata": {},
   "outputs": [],
   "source": []
  }
 ],
 "metadata": {
  "kernelspec": {
   "display_name": "Python 3 (ipykernel)",
   "language": "python",
   "name": "python3"
  },
  "language_info": {
   "codemirror_mode": {
    "name": "ipython",
    "version": 3
   },
   "file_extension": ".py",
   "mimetype": "text/x-python",
   "name": "python",
   "nbconvert_exporter": "python",
   "pygments_lexer": "ipython3",
   "version": "3.8.11"
  }
 },
 "nbformat": 4,
 "nbformat_minor": 5
}
